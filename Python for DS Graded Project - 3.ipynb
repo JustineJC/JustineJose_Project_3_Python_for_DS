{
 "cells": [
  {
   "attachments": {},
   "cell_type": "markdown",
   "metadata": {},
   "source": [
    "# Graded Project\n",
    ">   Web Development using Flask"
   ]
  },
  {
   "attachments": {},
   "cell_type": "markdown",
   "metadata": {},
   "source": [
    "> ### Domain:\n",
    "- Finance and Banking."
   ]
  },
  {
   "attachments": {},
   "cell_type": "markdown",
   "metadata": {},
   "source": [
    "> ### Context:\n",
    "* Dream Housing Finance company deals in all home loans. They have presence\n",
    "across all urban, semi urban and rural areas. Customers first apply for a home\n",
    "loan after that company manually validates the customer eligibility for loan. <br>\n",
    "* `Company wants to automate the loan eligibility process based on customer`\n",
    "detail provided while filling the details online.\n",
    "They need a web application where a user can access their website and\n",
    "register, login, and enter the required details such as Gender, Marital Status,\n",
    "Education, Number of Dependents, Income, Loan Amount, Credit History and\n",
    " others for checking the eligibility for the home loan. "
   ]
  },
  {
   "attachments": {},
   "cell_type": "markdown",
   "metadata": {},
   "source": [
    "> ### Project Objective:\n",
    "1) This is a standard supervised classification task. A classification problem\n",
    "where we have to predict whether a customer is eligible for loan or not based on\n",
    "a given set of independent variable(s).\n",
    "2) To build a Python Flask ML application where a user has to get registered by\n",
    "entering the username and password and login to the website and then enter\n",
    "their details to check whether they are eligible for loan or not."
   ]
  },
  {
   "attachments": {},
   "cell_type": "markdown",
   "metadata": {},
   "source": [
    ">### Dataset Description:\n",
    "Dataset can be found [here](https://www.kaggle.com/datasets/ssiddharth408/loan-prediction-dataset)\n",
    "|SL. No |Attribute              |Description                  |\n",
    "|-------|-----------------------|-----------------------------|\n",
    "|1.     | Loan ID               | Unique Loan ID              |\n",
    "|2.     | Gender                | Male or Female              |\n",
    "|3.     | Married               | Applicant married (Y/N)     |\n",
    "|4.     |Dependents             | Number of Dependents        |\n",
    "|5.     |Self employed          | Self employed (Y/N)         |\n",
    "|6.     |Education              | Graduate/Undergraduate      |\n",
    "|7.     |Applicant Income       |Applicant income (in dollars)|\n",
    "|8.     |Co ApplicantIncome     |Co ApplicantIncome(inDollars)|\n",
    "|9.     |Loan Amount            |LoanAmountinThousands(Dollar)|\n",
    "|10.    |Loan Amount Term       |Term of loan in months       |\n",
    "|11.    | Credit history        |Credit historyMeetsGidelines |\n",
    "|12.|Property area |Urban/Semi Urban/Rural|\n",
    "|13. |Loan Status (Target)| Loan Approved (Y/N)Steps|"
   ]
  },
  {
   "attachments": {},
   "cell_type": "markdown",
   "metadata": {},
   "source": [
    " ### _Steps to the project_: [Total score: **15** points]\n",
    "* ####  Model Building and saving the model using Pickle\n",
    "   1. Import required libraries and read the dataset. (2)\n",
    "   2. Check the first few samples, shape, info of the data and try to familiarize\n",
    "        yourself with different features. (2)\n",
    "    3. Check for missing values in the dataset, if present? handle them with\n",
    "    appropriate methods and drop redundant features. (2)\n",
    "    4. Visualize the distribution of the target column 'loan_status' with respect to\n",
    "    various categorical features and write your observations. (2)\n",
    "    5. Encode the categorical data. (2)\n",
    "    6. Separate the target and independent features and split the data into train\n",
    "    and test. (2)\n",
    "    7. Build any classification model to predict the loan status of the customer\n",
    "    and save your model using pickle. (3)\n"
   ]
  },
  {
   "cell_type": "code",
   "execution_count": 3,
   "metadata": {},
   "outputs": [],
   "source": [
    "#Import required libraries  \n",
    "\n",
    "import pandas as pd\n",
    "import numpy as np\n",
    "import seaborn as sb\n",
    "import matplotlib.pyplot as plt\n",
    "from sklearn.model_selection import train_test_split\n",
    "from sklearn.preprocessing import StandardScaler,LabelEncoder\n",
    "import warnings \n",
    "warnings.filterwarnings('ignore')\n",
    "from sklearn.preprocessing import StandardScaler,LabelEncoder\n",
    "from sklearn.linear_model import LogisticRegression\n",
    "from sklearn.metrics import accuracy_score,confusion_matrix\n",
    "from sklearn.neighbors import KNeighborsClassifier\n",
    "from sklearn.naive_bayes import GaussianNB\n",
    "from sklearn.ensemble import RandomForestClassifier\n",
    "from sklearn.ensemble import StackingClassifier\n",
    "from sklearn.ensemble import AdaBoostClassifier, GradientBoostingClassifier\n",
    "from sklearn.tree import DecisionTreeClassifier"
   ]
  },
  {
   "cell_type": "code",
   "execution_count": 4,
   "metadata": {},
   "outputs": [
    {
     "data": {
      "text/html": [
       "<div>\n",
       "<style scoped>\n",
       "    .dataframe tbody tr th:only-of-type {\n",
       "        vertical-align: middle;\n",
       "    }\n",
       "\n",
       "    .dataframe tbody tr th {\n",
       "        vertical-align: top;\n",
       "    }\n",
       "\n",
       "    .dataframe thead th {\n",
       "        text-align: right;\n",
       "    }\n",
       "</style>\n",
       "<table border=\"1\" class=\"dataframe\">\n",
       "  <thead>\n",
       "    <tr style=\"text-align: right;\">\n",
       "      <th></th>\n",
       "      <th>loan_id</th>\n",
       "      <th>gender</th>\n",
       "      <th>married</th>\n",
       "      <th>dependents</th>\n",
       "      <th>education</th>\n",
       "      <th>self_employed</th>\n",
       "      <th>applicantincome</th>\n",
       "      <th>coapplicantincome</th>\n",
       "      <th>loanamount</th>\n",
       "      <th>loan_amount_term</th>\n",
       "      <th>credit_history</th>\n",
       "      <th>property_area</th>\n",
       "      <th>loan_status</th>\n",
       "    </tr>\n",
       "  </thead>\n",
       "  <tbody>\n",
       "    <tr>\n",
       "      <th>0</th>\n",
       "      <td>lp001002</td>\n",
       "      <td>male</td>\n",
       "      <td>no</td>\n",
       "      <td>0.0</td>\n",
       "      <td>graduate</td>\n",
       "      <td>no</td>\n",
       "      <td>5849</td>\n",
       "      <td>0.0</td>\n",
       "      <td>NaN</td>\n",
       "      <td>360.0</td>\n",
       "      <td>1.0</td>\n",
       "      <td>urban</td>\n",
       "      <td>y</td>\n",
       "    </tr>\n",
       "    <tr>\n",
       "      <th>1</th>\n",
       "      <td>lp001003</td>\n",
       "      <td>male</td>\n",
       "      <td>yes</td>\n",
       "      <td>1.0</td>\n",
       "      <td>graduate</td>\n",
       "      <td>no</td>\n",
       "      <td>4583</td>\n",
       "      <td>1508.0</td>\n",
       "      <td>128.0</td>\n",
       "      <td>360.0</td>\n",
       "      <td>1.0</td>\n",
       "      <td>rural</td>\n",
       "      <td>n</td>\n",
       "    </tr>\n",
       "    <tr>\n",
       "      <th>2</th>\n",
       "      <td>lp001005</td>\n",
       "      <td>male</td>\n",
       "      <td>yes</td>\n",
       "      <td>0.0</td>\n",
       "      <td>graduate</td>\n",
       "      <td>yes</td>\n",
       "      <td>3000</td>\n",
       "      <td>0.0</td>\n",
       "      <td>66.0</td>\n",
       "      <td>360.0</td>\n",
       "      <td>1.0</td>\n",
       "      <td>urban</td>\n",
       "      <td>y</td>\n",
       "    </tr>\n",
       "    <tr>\n",
       "      <th>3</th>\n",
       "      <td>lp001006</td>\n",
       "      <td>male</td>\n",
       "      <td>yes</td>\n",
       "      <td>0.0</td>\n",
       "      <td>not graduate</td>\n",
       "      <td>no</td>\n",
       "      <td>2583</td>\n",
       "      <td>2358.0</td>\n",
       "      <td>120.0</td>\n",
       "      <td>360.0</td>\n",
       "      <td>1.0</td>\n",
       "      <td>urban</td>\n",
       "      <td>y</td>\n",
       "    </tr>\n",
       "    <tr>\n",
       "      <th>4</th>\n",
       "      <td>lp001008</td>\n",
       "      <td>male</td>\n",
       "      <td>no</td>\n",
       "      <td>0.0</td>\n",
       "      <td>graduate</td>\n",
       "      <td>no</td>\n",
       "      <td>6000</td>\n",
       "      <td>0.0</td>\n",
       "      <td>141.0</td>\n",
       "      <td>360.0</td>\n",
       "      <td>1.0</td>\n",
       "      <td>urban</td>\n",
       "      <td>y</td>\n",
       "    </tr>\n",
       "  </tbody>\n",
       "</table>\n",
       "</div>"
      ],
      "text/plain": [
       "    loan_id gender married  dependents     education self_employed  \\\n",
       "0  lp001002   male      no         0.0      graduate            no   \n",
       "1  lp001003   male     yes         1.0      graduate            no   \n",
       "2  lp001005   male     yes         0.0      graduate           yes   \n",
       "3  lp001006   male     yes         0.0  not graduate            no   \n",
       "4  lp001008   male      no         0.0      graduate            no   \n",
       "\n",
       "   applicantincome  coapplicantincome  loanamount  loan_amount_term  \\\n",
       "0             5849                0.0         NaN             360.0   \n",
       "1             4583             1508.0       128.0             360.0   \n",
       "2             3000                0.0        66.0             360.0   \n",
       "3             2583             2358.0       120.0             360.0   \n",
       "4             6000                0.0       141.0             360.0   \n",
       "\n",
       "   credit_history property_area loan_status  \n",
       "0             1.0         urban           y  \n",
       "1             1.0         rural           n  \n",
       "2             1.0         urban           y  \n",
       "3             1.0         urban           y  \n",
       "4             1.0         urban           y  "
      ]
     },
     "execution_count": 4,
     "metadata": {},
     "output_type": "execute_result"
    }
   ],
   "source": [
    "#Read the dataset\n",
    "loan_data = pd.read_csv(r'loan_approval_data.csv')\n",
    "loan_data.head()"
   ]
  },
  {
   "cell_type": "code",
   "execution_count": 5,
   "metadata": {},
   "outputs": [
    {
     "name": "stdout",
     "output_type": "stream",
     "text": [
      "<class 'pandas.core.frame.DataFrame'>\n",
      "RangeIndex: 614 entries, 0 to 613\n",
      "Data columns (total 13 columns):\n",
      " #   Column             Non-Null Count  Dtype  \n",
      "---  ------             --------------  -----  \n",
      " 0   loan_id            614 non-null    object \n",
      " 1   gender             601 non-null    object \n",
      " 2   married            611 non-null    object \n",
      " 3   dependents         599 non-null    float64\n",
      " 4   education          614 non-null    object \n",
      " 5   self_employed      582 non-null    object \n",
      " 6   applicantincome    614 non-null    int64  \n",
      " 7   coapplicantincome  614 non-null    float64\n",
      " 8   loanamount         592 non-null    float64\n",
      " 9   loan_amount_term   600 non-null    float64\n",
      " 10  credit_history     564 non-null    float64\n",
      " 11  property_area      614 non-null    object \n",
      " 12  loan_status        614 non-null    object \n",
      "dtypes: float64(5), int64(1), object(7)\n",
      "memory usage: 62.5+ KB\n"
     ]
    }
   ],
   "source": [
    "#Info of the dataset\n",
    "loan_data.info()"
   ]
  },
  {
   "cell_type": "code",
   "execution_count": 6,
   "metadata": {},
   "outputs": [
    {
     "data": {
      "text/plain": [
       "(614, 13)"
      ]
     },
     "execution_count": 6,
     "metadata": {},
     "output_type": "execute_result"
    }
   ],
   "source": [
    "#Shape of the dataset\n",
    "loan_data.shape"
   ]
  },
  {
   "cell_type": "code",
   "execution_count": 7,
   "metadata": {},
   "outputs": [
    {
     "name": "stdout",
     "output_type": "stream",
     "text": [
      "___________________________________________________\n",
      "|________Columns which are of Object type_________|\n",
      "Columns :Index(['loan_id', 'gender', 'married', 'education', 'self_employed',\n",
      "       'property_area', 'loan_status'],\n",
      "      dtype='object')\n",
      "----------------------------------------------\n",
      "Total number of object columns:7 \n",
      "____________________________________________________\n",
      "|_______Columns which are of Numerical type________|\n",
      "Numerical columns ['dependents' 'applicantincome' 'coapplicantincome' 'loanamount'\n",
      " 'loan_amount_term' 'credit_history']\n",
      "----------------------------------------------\n",
      "Numerical columns count: 6\n"
     ]
    }
   ],
   "source": [
    "#Object type columns in the dataset.\n",
    "print(\"___________________________________________________\")\n",
    "print(\"|________Columns which are of Object type_________|\")\n",
    "print(\"Columns :{}\".format(loan_data.select_dtypes('object').columns))\n",
    "print(\"----------------------------------------------\")\n",
    "print(\"Total number of object columns:{} \".format(loan_data.select_dtypes('object').columns.value_counts().sum()))\n",
    "#Numerical columns in the dataset\n",
    "print(\"____________________________________________________\")\n",
    "print(\"|_______Columns which are of Numerical type________|\")\n",
    "print(\"Numerical columns {}\".format(loan_data.select_dtypes(exclude='object').columns.values))\n",
    "print(\"----------------------------------------------\")\n",
    "print(\"Numerical columns count: {}\".format(loan_data.select_dtypes(exclude='object').columns.value_counts().sum()))"
   ]
  },
  {
   "cell_type": "code",
   "execution_count": 8,
   "metadata": {},
   "outputs": [
    {
     "name": "stdout",
     "output_type": "stream",
     "text": [
      "The statistical values of the dataset(numerical)\n"
     ]
    },
    {
     "data": {
      "text/html": [
       "<div>\n",
       "<style scoped>\n",
       "    .dataframe tbody tr th:only-of-type {\n",
       "        vertical-align: middle;\n",
       "    }\n",
       "\n",
       "    .dataframe tbody tr th {\n",
       "        vertical-align: top;\n",
       "    }\n",
       "\n",
       "    .dataframe thead th {\n",
       "        text-align: right;\n",
       "    }\n",
       "</style>\n",
       "<table border=\"1\" class=\"dataframe\">\n",
       "  <thead>\n",
       "    <tr style=\"text-align: right;\">\n",
       "      <th></th>\n",
       "      <th>count</th>\n",
       "      <th>mean</th>\n",
       "      <th>std</th>\n",
       "      <th>min</th>\n",
       "      <th>25%</th>\n",
       "      <th>50%</th>\n",
       "      <th>75%</th>\n",
       "      <th>max</th>\n",
       "    </tr>\n",
       "  </thead>\n",
       "  <tbody>\n",
       "    <tr>\n",
       "      <th>dependents</th>\n",
       "      <td>599.0</td>\n",
       "      <td>0.762938</td>\n",
       "      <td>1.015216</td>\n",
       "      <td>0.0</td>\n",
       "      <td>0.0</td>\n",
       "      <td>0.0</td>\n",
       "      <td>2.00</td>\n",
       "      <td>3.0</td>\n",
       "    </tr>\n",
       "    <tr>\n",
       "      <th>applicantincome</th>\n",
       "      <td>614.0</td>\n",
       "      <td>5403.459283</td>\n",
       "      <td>6109.041673</td>\n",
       "      <td>150.0</td>\n",
       "      <td>2877.5</td>\n",
       "      <td>3812.5</td>\n",
       "      <td>5795.00</td>\n",
       "      <td>81000.0</td>\n",
       "    </tr>\n",
       "    <tr>\n",
       "      <th>coapplicantincome</th>\n",
       "      <td>614.0</td>\n",
       "      <td>1621.245798</td>\n",
       "      <td>2926.248369</td>\n",
       "      <td>0.0</td>\n",
       "      <td>0.0</td>\n",
       "      <td>1188.5</td>\n",
       "      <td>2297.25</td>\n",
       "      <td>41667.0</td>\n",
       "    </tr>\n",
       "    <tr>\n",
       "      <th>loanamount</th>\n",
       "      <td>592.0</td>\n",
       "      <td>146.412162</td>\n",
       "      <td>85.587325</td>\n",
       "      <td>9.0</td>\n",
       "      <td>100.0</td>\n",
       "      <td>128.0</td>\n",
       "      <td>168.00</td>\n",
       "      <td>700.0</td>\n",
       "    </tr>\n",
       "    <tr>\n",
       "      <th>loan_amount_term</th>\n",
       "      <td>600.0</td>\n",
       "      <td>342.000000</td>\n",
       "      <td>65.120410</td>\n",
       "      <td>12.0</td>\n",
       "      <td>360.0</td>\n",
       "      <td>360.0</td>\n",
       "      <td>360.00</td>\n",
       "      <td>480.0</td>\n",
       "    </tr>\n",
       "    <tr>\n",
       "      <th>credit_history</th>\n",
       "      <td>564.0</td>\n",
       "      <td>0.842199</td>\n",
       "      <td>0.364878</td>\n",
       "      <td>0.0</td>\n",
       "      <td>1.0</td>\n",
       "      <td>1.0</td>\n",
       "      <td>1.00</td>\n",
       "      <td>1.0</td>\n",
       "    </tr>\n",
       "  </tbody>\n",
       "</table>\n",
       "</div>"
      ],
      "text/plain": [
       "                   count         mean          std    min     25%     50%  \\\n",
       "dependents         599.0     0.762938     1.015216    0.0     0.0     0.0   \n",
       "applicantincome    614.0  5403.459283  6109.041673  150.0  2877.5  3812.5   \n",
       "coapplicantincome  614.0  1621.245798  2926.248369    0.0     0.0  1188.5   \n",
       "loanamount         592.0   146.412162    85.587325    9.0   100.0   128.0   \n",
       "loan_amount_term   600.0   342.000000    65.120410   12.0   360.0   360.0   \n",
       "credit_history     564.0     0.842199     0.364878    0.0     1.0     1.0   \n",
       "\n",
       "                       75%      max  \n",
       "dependents            2.00      3.0  \n",
       "applicantincome    5795.00  81000.0  \n",
       "coapplicantincome  2297.25  41667.0  \n",
       "loanamount          168.00    700.0  \n",
       "loan_amount_term    360.00    480.0  \n",
       "credit_history        1.00      1.0  "
      ]
     },
     "execution_count": 8,
     "metadata": {},
     "output_type": "execute_result"
    }
   ],
   "source": [
    "print(\"The statistical values of the dataset(numerical)\")\n",
    "loan_data.describe().T"
   ]
  },
  {
   "cell_type": "code",
   "execution_count": 9,
   "metadata": {},
   "outputs": [
    {
     "name": "stdout",
     "output_type": "stream",
     "text": [
      "Total number of missing values: 149\n"
     ]
    }
   ],
   "source": [
    "#Check for missing values in the dataset.\n",
    "total_val = loan_data.size\n",
    "Nan_minus = loan_data.count().sum()\n",
    "missing_val = total_val - Nan_minus\n",
    "print(\"Total number of missing values: {}\".format(missing_val))"
   ]
  },
  {
   "cell_type": "code",
   "execution_count": 10,
   "metadata": {},
   "outputs": [
    {
     "data": {
      "text/plain": [
       "loan_id              0.000000\n",
       "gender               2.117264\n",
       "married              0.488599\n",
       "dependents           2.442997\n",
       "education            0.000000\n",
       "self_employed        5.211726\n",
       "applicantincome      0.000000\n",
       "coapplicantincome    0.000000\n",
       "loanamount           3.583062\n",
       "loan_amount_term     2.280130\n",
       "credit_history       8.143322\n",
       "property_area        0.000000\n",
       "loan_status          0.000000\n",
       "dtype: float64"
      ]
     },
     "execution_count": 10,
     "metadata": {},
     "output_type": "execute_result"
    }
   ],
   "source": [
    "#Missing values in each feature\n",
    "#Calculate the percentage of null values in DataFrame\n",
    "(loan_data.isnull().sum()*100)/len(loan_data)"
   ]
  },
  {
   "cell_type": "code",
   "execution_count": 11,
   "metadata": {},
   "outputs": [],
   "source": [
    "# ---Handling missing values in the dataset---\n",
    "# Handling credit history feature:\n",
    "loan_data['credit_history']= loan_data['credit_history'].fillna(loan_data['credit_history'].median())\n",
    "# Handling Loanamount feature:\n",
    "loan_data['loanamount'] = loan_data['loanamount'].fillna(loan_data['loanamount'].median())\n",
    "# Handling loan_amount_term feature:\n",
    "loan_data['loan_amount_term']=loan_data['loan_amount_term'].fillna(loan_data['loan_amount_term'].median())\n",
    "# Handling self_employed feature:\n",
    "loan_data['self_employed'] = loan_data['self_employed'].fillna(loan_data['self_employed'].mode()[0]) #categorical so Mode\n",
    "# Handling dependents feature :\n",
    "loan_data['dependents']=loan_data['dependents'].fillna(loan_data['dependents'].median())\n",
    "# Handling gender feature :\n",
    "loan_data['gender']=loan_data['gender'].fillna(loan_data['gender'].mode()[0])\n",
    "# Handling married feature :\n",
    "loan_data['married']=loan_data['married'].fillna(loan_data['married'].mode()[0])"
   ]
  },
  {
   "cell_type": "code",
   "execution_count": 12,
   "metadata": {},
   "outputs": [
    {
     "data": {
      "text/plain": [
       "loan_id              0.0\n",
       "gender               0.0\n",
       "married              0.0\n",
       "dependents           0.0\n",
       "education            0.0\n",
       "self_employed        0.0\n",
       "applicantincome      0.0\n",
       "coapplicantincome    0.0\n",
       "loanamount           0.0\n",
       "loan_amount_term     0.0\n",
       "credit_history       0.0\n",
       "property_area        0.0\n",
       "loan_status          0.0\n",
       "dtype: float64"
      ]
     },
     "execution_count": 12,
     "metadata": {},
     "output_type": "execute_result"
    }
   ],
   "source": [
    "# All the missing values have been handled.\n",
    "(loan_data.isnull().sum()*100)/len(loan_data)"
   ]
  },
  {
   "cell_type": "code",
   "execution_count": 13,
   "metadata": {},
   "outputs": [],
   "source": [
    "# Drop Redundant columns.\n",
    "loan_data.drop(columns='loan_id',inplace=True,axis=1)"
   ]
  },
  {
   "cell_type": "code",
   "execution_count": 14,
   "metadata": {},
   "outputs": [
    {
     "data": {
      "text/plain": [
       "Index(['gender', 'married', 'education', 'self_employed', 'property_area',\n",
       "       'loan_status'],\n",
       "      dtype='object')"
      ]
     },
     "execution_count": 14,
     "metadata": {},
     "output_type": "execute_result"
    }
   ],
   "source": [
    "#Visualize the distribution of the target column 'loan_status' with respect to \n",
    "#various categorical features and write your observations.\n",
    "cat_feature = loan_data.select_dtypes(include='O').columns\n",
    "cat_feature"
   ]
  },
  {
   "cell_type": "code",
   "execution_count": 15,
   "metadata": {},
   "outputs": [
    {
     "data": {
      "image/png": "[encoded data removed]",
      "text/plain": [
       "<Figure size 4000x2500 with 6 Axes>"
      ]
     },
     "metadata": {},
     "output_type": "display_data"
    }
   ],
   "source": [
    "#Visualize the distribution of the target column 'loan_status' with respect to various categorical columns\n",
    "plt.figure(figsize=(40,25))\n",
    "i=1\n",
    "for feature in cat_feature:\n",
    "    plt.subplot(7,2,i)\n",
    "    sb.countplot(x=feature,hue='loan_status',data=loan_data)\n",
    "    i+=1"
   ]
  },
  {
   "attachments": {},
   "cell_type": "markdown",
   "metadata": {},
   "source": [
    "- Loan approval in case of Gender :` Male have more loan approvals`\n",
    "- Loan approval in case of Married : `Married are given more loan approvals`\n",
    "- Loan approval in case of Education : `Graduates are given more loan approvals`\n",
    "- In case of Self-Employeed : `Employeed have larger loan approvals`\n",
    "- In case of Property Area : `Semi-Urban have more loan approvals`"
   ]
  },
  {
   "cell_type": "code",
   "execution_count": 16,
   "metadata": {},
   "outputs": [],
   "source": [
    "clean_data = loan_data.copy()"
   ]
  },
  {
   "attachments": {},
   "cell_type": "markdown",
   "metadata": {},
   "source": [
    "5. Encode the categorical data. (2)\n",
    " \n"
   ]
  },
  {
   "cell_type": "code",
   "execution_count": 17,
   "metadata": {},
   "outputs": [],
   "source": [
    "#Encode the categorical data.\n",
    "le=LabelEncoder()\n",
    "for c in cat_feature:\n",
    "    clean_data[c] = clean_data[[c]].apply(le.fit_transform)"
   ]
  },
  {
   "cell_type": "code",
   "execution_count": 18,
   "metadata": {},
   "outputs": [],
   "source": [
    "#Standardize and scale the columns\n",
    "std=StandardScaler()\n",
    "scaled_feature = std.fit_transform(clean_data.values)\n",
    "scaled_feature_df = pd.DataFrame(scaled_feature,columns=clean_data.columns,index=clean_data.index)"
   ]
  },
  {
   "cell_type": "code",
   "execution_count": 19,
   "metadata": {},
   "outputs": [
    {
     "data": {
      "text/html": [
       "<div>\n",
       "<style scoped>\n",
       "    .dataframe tbody tr th:only-of-type {\n",
       "        vertical-align: middle;\n",
       "    }\n",
       "\n",
       "    .dataframe tbody tr th {\n",
       "        vertical-align: top;\n",
       "    }\n",
       "\n",
       "    .dataframe thead th {\n",
       "        text-align: right;\n",
       "    }\n",
       "</style>\n",
       "<table border=\"1\" class=\"dataframe\">\n",
       "  <thead>\n",
       "    <tr style=\"text-align: right;\">\n",
       "      <th></th>\n",
       "      <th>gender</th>\n",
       "      <th>married</th>\n",
       "      <th>dependents</th>\n",
       "      <th>education</th>\n",
       "      <th>self_employed</th>\n",
       "      <th>applicantincome</th>\n",
       "      <th>coapplicantincome</th>\n",
       "      <th>loanamount</th>\n",
       "      <th>loan_amount_term</th>\n",
       "      <th>credit_history</th>\n",
       "      <th>property_area</th>\n",
       "      <th>loan_status</th>\n",
       "    </tr>\n",
       "  </thead>\n",
       "  <tbody>\n",
       "    <tr>\n",
       "      <th>0</th>\n",
       "      <td>0.472343</td>\n",
       "      <td>-1.372089</td>\n",
       "      <td>-0.737806</td>\n",
       "      <td>-0.528362</td>\n",
       "      <td>-0.392601</td>\n",
       "      <td>0.072991</td>\n",
       "      <td>-0.554487</td>\n",
       "      <td>-0.211241</td>\n",
       "      <td>0.273231</td>\n",
       "      <td>0.411733</td>\n",
       "      <td>1.223298</td>\n",
       "      <td>0.674519</td>\n",
       "    </tr>\n",
       "    <tr>\n",
       "      <th>1</th>\n",
       "      <td>0.472343</td>\n",
       "      <td>0.728816</td>\n",
       "      <td>0.253470</td>\n",
       "      <td>-0.528362</td>\n",
       "      <td>-0.392601</td>\n",
       "      <td>-0.134412</td>\n",
       "      <td>-0.038732</td>\n",
       "      <td>-0.211241</td>\n",
       "      <td>0.273231</td>\n",
       "      <td>0.411733</td>\n",
       "      <td>-1.318513</td>\n",
       "      <td>-1.482537</td>\n",
       "    </tr>\n",
       "    <tr>\n",
       "      <th>2</th>\n",
       "      <td>0.472343</td>\n",
       "      <td>0.728816</td>\n",
       "      <td>-0.737806</td>\n",
       "      <td>-0.528362</td>\n",
       "      <td>2.547117</td>\n",
       "      <td>-0.393747</td>\n",
       "      <td>-0.554487</td>\n",
       "      <td>-0.948996</td>\n",
       "      <td>0.273231</td>\n",
       "      <td>0.411733</td>\n",
       "      <td>1.223298</td>\n",
       "      <td>0.674519</td>\n",
       "    </tr>\n",
       "  </tbody>\n",
       "</table>\n",
       "</div>"
      ],
      "text/plain": [
       "     gender   married  dependents  education  self_employed  applicantincome  \\\n",
       "0  0.472343 -1.372089   -0.737806  -0.528362      -0.392601         0.072991   \n",
       "1  0.472343  0.728816    0.253470  -0.528362      -0.392601        -0.134412   \n",
       "2  0.472343  0.728816   -0.737806  -0.528362       2.547117        -0.393747   \n",
       "\n",
       "   coapplicantincome  loanamount  loan_amount_term  credit_history  \\\n",
       "0          -0.554487   -0.211241          0.273231        0.411733   \n",
       "1          -0.038732   -0.211241          0.273231        0.411733   \n",
       "2          -0.554487   -0.948996          0.273231        0.411733   \n",
       "\n",
       "   property_area  loan_status  \n",
       "0       1.223298     0.674519  \n",
       "1      -1.318513    -1.482537  \n",
       "2       1.223298     0.674519  "
      ]
     },
     "execution_count": 19,
     "metadata": {},
     "output_type": "execute_result"
    }
   ],
   "source": [
    "scaled_feature_df.head(3)"
   ]
  },
  {
   "cell_type": "code",
   "execution_count": 20,
   "metadata": {},
   "outputs": [],
   "source": [
    "#5.Separate the target and independent features and split the data into train and test.\n",
    "X = clean_data.drop(columns='loan_status')\n",
    "Y = clean_data['loan_status']"
   ]
  },
  {
   "cell_type": "code",
   "execution_count": 21,
   "metadata": {},
   "outputs": [
    {
     "name": "stdout",
     "output_type": "stream",
     "text": [
      "(584, 11) (30, 11)\n",
      "(584,) (30,)\n"
     ]
    }
   ],
   "source": [
    "#split the data into train and test\n",
    "X_train,X_test,Y_train,Y_test = train_test_split(X,Y,test_size=30)\n",
    "print(X_train.shape,X_test.shape)\n",
    "print(Y_train.shape,Y_test.shape)"
   ]
  },
  {
   "cell_type": "code",
   "execution_count": 22,
   "metadata": {},
   "outputs": [],
   "source": [
    "#Function to predict the model\n",
    "def pred_model(model,X_test,X_train,Y_test,Y_train):\n",
    "    model.fit(X_train,Y_train)\n",
    "    predct = model.predict(X_test)\n",
    "    accuracy = accuracy_score(Y_test,predct)\n",
    "    return accuracy"
   ]
  },
  {
   "cell_type": "code",
   "execution_count": 23,
   "metadata": {},
   "outputs": [],
   "source": [
    "# Model intialization \n",
    "lgr=LogisticRegression()\n",
    "knn=KNeighborsClassifier()\n",
    "nb=GaussianNB()\n",
    "dst=DecisionTreeClassifier()\n",
    "rdf=RandomForestClassifier()\n",
    "adb=AdaBoostClassifier()\n",
    "gb=GradientBoostingClassifier()\n",
    "\n",
    "estimator =[('rdf',rdf),('knn',knn),('gb',gb),('adb',adb)]\n",
    "sc = StackingClassifier(estimators=estimator,final_estimator=rdf)"
   ]
  },
  {
   "cell_type": "code",
   "execution_count": 24,
   "metadata": {},
   "outputs": [
    {
     "data": {
      "text/html": [
       "<div>\n",
       "<style scoped>\n",
       "    .dataframe tbody tr th:only-of-type {\n",
       "        vertical-align: middle;\n",
       "    }\n",
       "\n",
       "    .dataframe tbody tr th {\n",
       "        vertical-align: top;\n",
       "    }\n",
       "\n",
       "    .dataframe thead th {\n",
       "        text-align: right;\n",
       "    }\n",
       "</style>\n",
       "<table border=\"1\" class=\"dataframe\">\n",
       "  <thead>\n",
       "    <tr style=\"text-align: right;\">\n",
       "      <th></th>\n",
       "      <th>accuracy</th>\n",
       "    </tr>\n",
       "  </thead>\n",
       "  <tbody>\n",
       "    <tr>\n",
       "      <th>Logistic regression</th>\n",
       "      <td>0.833333</td>\n",
       "    </tr>\n",
       "    <tr>\n",
       "      <th>KNN</th>\n",
       "      <td>0.533333</td>\n",
       "    </tr>\n",
       "    <tr>\n",
       "      <th>Naive Bayes</th>\n",
       "      <td>0.833333</td>\n",
       "    </tr>\n",
       "    <tr>\n",
       "      <th>Decision tree</th>\n",
       "      <td>0.800000</td>\n",
       "    </tr>\n",
       "    <tr>\n",
       "      <th>Random Forest</th>\n",
       "      <td>0.766667</td>\n",
       "    </tr>\n",
       "    <tr>\n",
       "      <th>Adaboost</th>\n",
       "      <td>0.833333</td>\n",
       "    </tr>\n",
       "    <tr>\n",
       "      <th>GradientBoost</th>\n",
       "      <td>0.800000</td>\n",
       "    </tr>\n",
       "    <tr>\n",
       "      <th>Stacking</th>\n",
       "      <td>0.833333</td>\n",
       "    </tr>\n",
       "  </tbody>\n",
       "</table>\n",
       "</div>"
      ],
      "text/plain": [
       "                     accuracy\n",
       "Logistic regression  0.833333\n",
       "KNN                  0.533333\n",
       "Naive Bayes          0.833333\n",
       "Decision tree        0.800000\n",
       "Random Forest        0.766667\n",
       "Adaboost             0.833333\n",
       "GradientBoost        0.800000\n",
       "Stacking             0.833333"
      ]
     },
     "execution_count": 24,
     "metadata": {},
     "output_type": "execute_result"
    }
   ],
   "source": [
    "result = pd.DataFrame(columns=['accuracy'])\n",
    "for model,model_name in zip([lgr,knn,nb,dst,rdf,adb,gb,sc],\n",
    "                            ['Logistic regression','KNN','Naive Bayes','Decision tree','Random Forest', \n",
    "                             'Adaboost','GradientBoost','Stacking']):\n",
    "    result.loc[model_name] = pred_model(model,X_test,X_train,Y_test,Y_train)\n",
    "\n",
    "result"
   ]
  },
  {
   "attachments": {},
   "cell_type": "markdown",
   "metadata": {},
   "source": [
    "Since Loan Approval seek to obtain a binary output plus from above observation we can find Logistic regression to be having greater accuracy. The model will choose logistic regression."
   ]
  },
  {
   "cell_type": "code",
   "execution_count": 62,
   "metadata": {},
   "outputs": [],
   "source": [
    "lgr.fit(X_train,Y_train)\n",
    "y_pred=lgr.predict(X_test)"
   ]
  },
  {
   "cell_type": "code",
   "execution_count": 67,
   "metadata": {},
   "outputs": [
    {
     "name": "stdout",
     "output_type": "stream",
     "text": [
      "[[ 6  5]\n",
      " [ 0 19]]\n",
      "              precision    recall  f1-score   support\n",
      "\n",
      "           0       1.00      0.55      0.71        11\n",
      "           1       0.79      1.00      0.88        19\n",
      "\n",
      "    accuracy                           0.83        30\n",
      "   macro avg       0.90      0.77      0.79        30\n",
      "weighted avg       0.87      0.83      0.82        30\n",
      "\n"
     ]
    }
   ],
   "source": [
    "from sklearn.metrics import confusion_matrix, classification_report\n",
    "\n",
    "# Generate confusion matrix\n",
    "cm = confusion_matrix(Y_test, y_pred)\n",
    "print(cm)\n",
    "\n",
    "# Generate classification report\n",
    "cr = classification_report(Y_test, y_pred)\n",
    "print(cr)"
   ]
  },
  {
   "attachments": {},
   "cell_type": "markdown",
   "metadata": {},
   "source": [
    "From above classification report we can conclude that\n",
    "- Precission for Loan approval is `100%` accurate and non-approval is `79% accurate`.\n",
    "- Recall ensures how well the model predict accuracy: here loan approval `100%` correctly identified.\n",
    "- The model has an accuracy of 0.83, which means that it has correctly predicted 83% of the samples. - The F1 score for `Loan_approval is 71%, and for Non_approval is 88%`. \n",
    "- The model has higher F1 score for Loan_non-approval , which means that it is better at predicting Loan_non-approval . \n",
    "-The support for class 0 is 11, and for class 1, it is 19"
   ]
  },
  {
   "cell_type": "code",
   "execution_count": 65,
   "metadata": {},
   "outputs": [
    {
     "data": {
      "image/png": "[encoded data removed]",
      "text/plain": [
       "<Figure size 400x500 with 2 Axes>"
      ]
     },
     "metadata": {},
     "output_type": "display_data"
    }
   ],
   "source": [
    "plt.figure(figsize=(4,5))\n",
    "# Plot confusion matrix as heatmap\n",
    "sb.heatmap(cm, annot=True, cmap=\"Blues\")\n",
    "plt.xlabel(\"Predicted labels\")\n",
    "plt.ylabel(\"True labels\")\n",
    "plt.title(\"Confusion matrix\")\n",
    "plt.show()"
   ]
  },
  {
   "cell_type": "code",
   "execution_count": 68,
   "metadata": {},
   "outputs": [],
   "source": [
    "#Pickle import and save model\n",
    "import pickle\n",
    "#save model\n",
    "pickle.dump(lgr,open('model.pkl','wb'))"
   ]
  },
  {
   "attachments": {},
   "cell_type": "markdown",
   "metadata": {},
   "source": [
    ">* ### Python Flask Application development (35 points)"
   ]
  },
  {
   "cell_type": "code",
   "execution_count": null,
   "metadata": {},
   "outputs": [],
   "source": []
  }
 ],
 "metadata": {
  "kernelspec": {
   "display_name": "Python 3",
   "language": "python",
   "name": "python3"
  },
  "language_info": {
   "codemirror_mode": {
    "name": "ipython",
    "version": 3
   },
   "file_extension": ".py",
   "mimetype": "text/x-python",
   "name": "python",
   "nbconvert_exporter": "python",
   "pygments_lexer": "ipython3",
   "version": "3.11.2"
  },
  "orig_nbformat": 4,
  "vscode": {
   "interpreter": {
    "hash": "88a338a6bb88df75bd53ede52b91ef50bc5e86aeb2ba5bb2842a62fb34b2a425"
   }
  }
 },
 "nbformat": 4,
 "nbformat_minor": 2
}
